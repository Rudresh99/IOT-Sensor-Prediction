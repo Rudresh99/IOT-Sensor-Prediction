{
  "nbformat": 4,
  "nbformat_minor": 0,
  "metadata": {
    "colab": {
      "name": "IOT_Data_Analysis.ipynb",
      "provenance": [],
      "collapsed_sections": [],
      "authorship_tag": "ABX9TyOw9SkYqEd7I/ZDo7NkjJOE",
      "include_colab_link": true
    },
    "kernelspec": {
      "name": "python3",
      "display_name": "Python 3"
    },
    "accelerator": "GPU"
  },
  "cells": [
    {
      "cell_type": "markdown",
      "metadata": {
        "id": "view-in-github",
        "colab_type": "text"
      },
      "source": [
        "<a href=\"https://colab.research.google.com/github/Rudresh99/IOT-Sensor-Prediction/blob/master/IOT_Data_Analysis.ipynb\" target=\"_parent\"><img src=\"https://colab.research.google.com/assets/colab-badge.svg\" alt=\"Open In Colab\"/></a>"
      ]
    },
    {
      "cell_type": "markdown",
      "metadata": {
        "id": "UeIDNIYotXmr",
        "colab_type": "text"
      },
      "source": [
        "#<center>                IOT-Sensor Data Analysis Using Keras\n",
        "# Sensor \n",
        "![alt text](data:image/jpeg;base64,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)\n",
        "\n",
        "\n",
        "A sensor is a device that detects and responds to some type of input from the physical environment. The specific input could be light, heat, motion, moisture, pressure, or any one of a great number of other environmental phenomena. The output is generally a signal that is converted to human-readable display at the sensor location or transmitted electronically over a network for reading or further processing. \n",
        "\n",
        "# Examples :-\n",
        "\n",
        "Here are a few examples of the many different types of sensors:\n",
        "\n",
        "1. In a mercury-based glass thermometer, the input is temperature. The liquid contained expands and contracts in response, causing the level to be higher or lower on the marked gauge, which is human-readable. \n",
        "\n",
        "2. An oxygen sensor in a car's emission control system detects the gasoline/oxygen ratio, usually through a chemical reaction that generates a voltage. A computer in the engine reads the voltage and, if the mixture is not optimal, readjusts the balance. \n",
        "\n",
        "3. Motion sensors in various systems including home security lights, automatic doors and bathroom fixtures typically send out some type of energy, such as microwaves, ultrasonic waves or light beams and detect when the flow of energy is interrupted by something entering its path. \n",
        "\n",
        "4. A photosensor detects the presence of visible light, infrared transmission (IR), and/or ultraviolet (UV) energy.\n",
        "\n",
        "# PIR Sensor\n",
        "\n",
        "A passive infrared sensor **(PIR sensor)** is an electronic sensor that measures infrared (IR) light radiating from objects in its field of view. They are most often used in PIR-based motion detectors. PIR sensors are commonly used in security alarms and automatic lighting applications.\n",
        "\n",
        "![PIR Sensor](https://encrypted-tbn0.gstatic.com/images?q=tbn%3AANd9GcS-br9udpagzwMA-06MHwYlBuneEHvzQJAPiw&usqp=CAU)\n",
        "\n",
        "\n",
        "\n"
      ]
    },
    {
      "cell_type": "markdown",
      "metadata": {
        "id": "ECko-Ig0xYEh",
        "colab_type": "text"
      },
      "source": [
        "# # OBJECTIVE :- \n",
        "# Our Goal is to predict that the person is present near to the sensor or not using our machine learning knowledge "
      ]
    },
    {
      "cell_type": "markdown",
      "metadata": {
        "id": "dAQiVQd2w8gR",
        "colab_type": "text"
      },
      "source": [
        "# 1). Import Google Drive to Access the Data"
      ]
    },
    {
      "cell_type": "code",
      "metadata": {
        "id": "xRYvDsSjBC9I",
        "colab_type": "code",
        "colab": {
          "base_uri": "https://localhost:8080/",
          "height": 34
        },
        "outputId": "9744f87a-d8fc-49fa-b249-921507ce87fa"
      },
      "source": [
        "from google.colab import drive\n",
        "drive.mount('/content/drive')\n"
      ],
      "execution_count": 1,
      "outputs": [
        {
          "output_type": "stream",
          "text": [
            "Drive already mounted at /content/drive; to attempt to forcibly remount, call drive.mount(\"/content/drive\", force_remount=True).\n"
          ],
          "name": "stdout"
        }
      ]
    },
    {
      "cell_type": "markdown",
      "metadata": {
        "id": "jgVrNn4myDpf",
        "colab_type": "text"
      },
      "source": [
        "# 2). Importing all the nessecary libraries which is needed for the processing."
      ]
    },
    {
      "cell_type": "code",
      "metadata": {
        "id": "BmFGTEb-BPg0",
        "colab_type": "code",
        "colab": {
          "base_uri": "https://localhost:8080/",
          "height": 71
        },
        "outputId": "d242c8ba-b527-4fd4-d07e-f3b645f0eff6"
      },
      "source": [
        "import pandas as pd\n",
        "import matplotlib.pyplot as plt\n",
        "import seaborn as sns\n",
        "from sklearn.preprocessing import LabelEncoder\n",
        "from sklearn.model_selection import train_test_split"
      ],
      "execution_count": 2,
      "outputs": [
        {
          "output_type": "stream",
          "text": [
            "/usr/local/lib/python3.6/dist-packages/statsmodels/tools/_testing.py:19: FutureWarning: pandas.util.testing is deprecated. Use the functions in the public API at pandas.testing instead.\n",
            "  import pandas.util.testing as tm\n"
          ],
          "name": "stderr"
        }
      ]
    },
    {
      "cell_type": "markdown",
      "metadata": {
        "id": "-o4FpiD3yX5q",
        "colab_type": "text"
      },
      "source": [
        "# 3). Loading Data from Drive to Notebook for Procesing."
      ]
    },
    {
      "cell_type": "code",
      "metadata": {
        "id": "-G49WpFsBZbu",
        "colab_type": "code",
        "colab": {
          "base_uri": "https://localhost:8080/",
          "height": 204
        },
        "outputId": "be4f8d84-5ec5-45fb-8ea3-2a3dd3061bab"
      },
      "source": [
        "data = pd.read_csv('/content/drive/My Drive/IOT-Data.csv')\n",
        "data.head()"
      ],
      "execution_count": 3,
      "outputs": [
        {
          "output_type": "execute_result",
          "data": {
            "text/html": [
              "<div>\n",
              "<style scoped>\n",
              "    .dataframe tbody tr th:only-of-type {\n",
              "        vertical-align: middle;\n",
              "    }\n",
              "\n",
              "    .dataframe tbody tr th {\n",
              "        vertical-align: top;\n",
              "    }\n",
              "\n",
              "    .dataframe thead th {\n",
              "        text-align: right;\n",
              "    }\n",
              "</style>\n",
              "<table border=\"1\" class=\"dataframe\">\n",
              "  <thead>\n",
              "    <tr style=\"text-align: right;\">\n",
              "      <th></th>\n",
              "      <th>ts</th>\n",
              "      <th>device</th>\n",
              "      <th>co</th>\n",
              "      <th>humidity</th>\n",
              "      <th>light</th>\n",
              "      <th>lpg</th>\n",
              "      <th>motion</th>\n",
              "      <th>smoke</th>\n",
              "      <th>temp</th>\n",
              "    </tr>\n",
              "  </thead>\n",
              "  <tbody>\n",
              "    <tr>\n",
              "      <th>0</th>\n",
              "      <td>1.590000e+09</td>\n",
              "      <td>b8:27:eb:bf:9d:51</td>\n",
              "      <td>0.004956</td>\n",
              "      <td>51.000000</td>\n",
              "      <td>False</td>\n",
              "      <td>0.007651</td>\n",
              "      <td>False</td>\n",
              "      <td>0.020411</td>\n",
              "      <td>22.700000</td>\n",
              "    </tr>\n",
              "    <tr>\n",
              "      <th>1</th>\n",
              "      <td>1.590000e+09</td>\n",
              "      <td>00:0f:00:70:91:0a</td>\n",
              "      <td>0.002840</td>\n",
              "      <td>76.000000</td>\n",
              "      <td>False</td>\n",
              "      <td>0.005114</td>\n",
              "      <td>False</td>\n",
              "      <td>0.013275</td>\n",
              "      <td>19.700001</td>\n",
              "    </tr>\n",
              "    <tr>\n",
              "      <th>2</th>\n",
              "      <td>1.590000e+09</td>\n",
              "      <td>b8:27:eb:bf:9d:51</td>\n",
              "      <td>0.004976</td>\n",
              "      <td>50.900000</td>\n",
              "      <td>False</td>\n",
              "      <td>0.007673</td>\n",
              "      <td>False</td>\n",
              "      <td>0.020475</td>\n",
              "      <td>22.600000</td>\n",
              "    </tr>\n",
              "    <tr>\n",
              "      <th>3</th>\n",
              "      <td>1.590000e+09</td>\n",
              "      <td>1c:bf:ce:15:ec:4d</td>\n",
              "      <td>0.004403</td>\n",
              "      <td>76.800003</td>\n",
              "      <td>True</td>\n",
              "      <td>0.007023</td>\n",
              "      <td>False</td>\n",
              "      <td>0.018628</td>\n",
              "      <td>27.000000</td>\n",
              "    </tr>\n",
              "    <tr>\n",
              "      <th>4</th>\n",
              "      <td>1.590000e+09</td>\n",
              "      <td>b8:27:eb:bf:9d:51</td>\n",
              "      <td>0.004967</td>\n",
              "      <td>50.900000</td>\n",
              "      <td>False</td>\n",
              "      <td>0.007664</td>\n",
              "      <td>False</td>\n",
              "      <td>0.020448</td>\n",
              "      <td>22.600000</td>\n",
              "    </tr>\n",
              "  </tbody>\n",
              "</table>\n",
              "</div>"
            ],
            "text/plain": [
              "             ts             device        co  ...  motion     smoke       temp\n",
              "0  1.590000e+09  b8:27:eb:bf:9d:51  0.004956  ...   False  0.020411  22.700000\n",
              "1  1.590000e+09  00:0f:00:70:91:0a  0.002840  ...   False  0.013275  19.700001\n",
              "2  1.590000e+09  b8:27:eb:bf:9d:51  0.004976  ...   False  0.020475  22.600000\n",
              "3  1.590000e+09  1c:bf:ce:15:ec:4d  0.004403  ...   False  0.018628  27.000000\n",
              "4  1.590000e+09  b8:27:eb:bf:9d:51  0.004967  ...   False  0.020448  22.600000\n",
              "\n",
              "[5 rows x 9 columns]"
            ]
          },
          "metadata": {
            "tags": []
          },
          "execution_count": 3
        }
      ]
    },
    {
      "cell_type": "markdown",
      "metadata": {
        "id": "IpaogLHryiwH",
        "colab_type": "text"
      },
      "source": [
        "# 4). Pre-Processing of the Data for Machine Learning Model"
      ]
    },
    {
      "cell_type": "code",
      "metadata": {
        "id": "b7yYYQSEKbai",
        "colab_type": "code",
        "colab": {
          "base_uri": "https://localhost:8080/",
          "height": 204
        },
        "outputId": "42f87b38-297d-4b0a-a67b-efe3000d74f4"
      },
      "source": [
        "data.replace(['00:0f:00:70:91:0a', '1c:bf:ce:15:ec:4d', 'b8:27:eb:bf:9d:51'], [1, 2, 3], inplace=True)\n",
        "data.head()"
      ],
      "execution_count": 4,
      "outputs": [
        {
          "output_type": "execute_result",
          "data": {
            "text/html": [
              "<div>\n",
              "<style scoped>\n",
              "    .dataframe tbody tr th:only-of-type {\n",
              "        vertical-align: middle;\n",
              "    }\n",
              "\n",
              "    .dataframe tbody tr th {\n",
              "        vertical-align: top;\n",
              "    }\n",
              "\n",
              "    .dataframe thead th {\n",
              "        text-align: right;\n",
              "    }\n",
              "</style>\n",
              "<table border=\"1\" class=\"dataframe\">\n",
              "  <thead>\n",
              "    <tr style=\"text-align: right;\">\n",
              "      <th></th>\n",
              "      <th>ts</th>\n",
              "      <th>device</th>\n",
              "      <th>co</th>\n",
              "      <th>humidity</th>\n",
              "      <th>light</th>\n",
              "      <th>lpg</th>\n",
              "      <th>motion</th>\n",
              "      <th>smoke</th>\n",
              "      <th>temp</th>\n",
              "    </tr>\n",
              "  </thead>\n",
              "  <tbody>\n",
              "    <tr>\n",
              "      <th>0</th>\n",
              "      <td>1.590000e+09</td>\n",
              "      <td>3</td>\n",
              "      <td>0.004956</td>\n",
              "      <td>51.000000</td>\n",
              "      <td>False</td>\n",
              "      <td>0.007651</td>\n",
              "      <td>False</td>\n",
              "      <td>0.020411</td>\n",
              "      <td>22.700000</td>\n",
              "    </tr>\n",
              "    <tr>\n",
              "      <th>1</th>\n",
              "      <td>1.590000e+09</td>\n",
              "      <td>1</td>\n",
              "      <td>0.002840</td>\n",
              "      <td>76.000000</td>\n",
              "      <td>False</td>\n",
              "      <td>0.005114</td>\n",
              "      <td>False</td>\n",
              "      <td>0.013275</td>\n",
              "      <td>19.700001</td>\n",
              "    </tr>\n",
              "    <tr>\n",
              "      <th>2</th>\n",
              "      <td>1.590000e+09</td>\n",
              "      <td>3</td>\n",
              "      <td>0.004976</td>\n",
              "      <td>50.900000</td>\n",
              "      <td>False</td>\n",
              "      <td>0.007673</td>\n",
              "      <td>False</td>\n",
              "      <td>0.020475</td>\n",
              "      <td>22.600000</td>\n",
              "    </tr>\n",
              "    <tr>\n",
              "      <th>3</th>\n",
              "      <td>1.590000e+09</td>\n",
              "      <td>2</td>\n",
              "      <td>0.004403</td>\n",
              "      <td>76.800003</td>\n",
              "      <td>True</td>\n",
              "      <td>0.007023</td>\n",
              "      <td>False</td>\n",
              "      <td>0.018628</td>\n",
              "      <td>27.000000</td>\n",
              "    </tr>\n",
              "    <tr>\n",
              "      <th>4</th>\n",
              "      <td>1.590000e+09</td>\n",
              "      <td>3</td>\n",
              "      <td>0.004967</td>\n",
              "      <td>50.900000</td>\n",
              "      <td>False</td>\n",
              "      <td>0.007664</td>\n",
              "      <td>False</td>\n",
              "      <td>0.020448</td>\n",
              "      <td>22.600000</td>\n",
              "    </tr>\n",
              "  </tbody>\n",
              "</table>\n",
              "</div>"
            ],
            "text/plain": [
              "             ts  device        co  ...  motion     smoke       temp\n",
              "0  1.590000e+09       3  0.004956  ...   False  0.020411  22.700000\n",
              "1  1.590000e+09       1  0.002840  ...   False  0.013275  19.700001\n",
              "2  1.590000e+09       3  0.004976  ...   False  0.020475  22.600000\n",
              "3  1.590000e+09       2  0.004403  ...   False  0.018628  27.000000\n",
              "4  1.590000e+09       3  0.004967  ...   False  0.020448  22.600000\n",
              "\n",
              "[5 rows x 9 columns]"
            ]
          },
          "metadata": {
            "tags": []
          },
          "execution_count": 4
        }
      ]
    },
    {
      "cell_type": "code",
      "metadata": {
        "id": "keh83R1-LvC6",
        "colab_type": "code",
        "colab": {
          "base_uri": "https://localhost:8080/",
          "height": 204
        },
        "outputId": "64af4908-0993-4c76-f6f5-7765d1d79b9c"
      },
      "source": [
        "data['ts'] = pd.to_datetime(data['ts'])\n",
        "data.head()\n"
      ],
      "execution_count": 5,
      "outputs": [
        {
          "output_type": "execute_result",
          "data": {
            "text/html": [
              "<div>\n",
              "<style scoped>\n",
              "    .dataframe tbody tr th:only-of-type {\n",
              "        vertical-align: middle;\n",
              "    }\n",
              "\n",
              "    .dataframe tbody tr th {\n",
              "        vertical-align: top;\n",
              "    }\n",
              "\n",
              "    .dataframe thead th {\n",
              "        text-align: right;\n",
              "    }\n",
              "</style>\n",
              "<table border=\"1\" class=\"dataframe\">\n",
              "  <thead>\n",
              "    <tr style=\"text-align: right;\">\n",
              "      <th></th>\n",
              "      <th>ts</th>\n",
              "      <th>device</th>\n",
              "      <th>co</th>\n",
              "      <th>humidity</th>\n",
              "      <th>light</th>\n",
              "      <th>lpg</th>\n",
              "      <th>motion</th>\n",
              "      <th>smoke</th>\n",
              "      <th>temp</th>\n",
              "    </tr>\n",
              "  </thead>\n",
              "  <tbody>\n",
              "    <tr>\n",
              "      <th>0</th>\n",
              "      <td>1970-01-01 00:00:01.590</td>\n",
              "      <td>3</td>\n",
              "      <td>0.004956</td>\n",
              "      <td>51.000000</td>\n",
              "      <td>False</td>\n",
              "      <td>0.007651</td>\n",
              "      <td>False</td>\n",
              "      <td>0.020411</td>\n",
              "      <td>22.700000</td>\n",
              "    </tr>\n",
              "    <tr>\n",
              "      <th>1</th>\n",
              "      <td>1970-01-01 00:00:01.590</td>\n",
              "      <td>1</td>\n",
              "      <td>0.002840</td>\n",
              "      <td>76.000000</td>\n",
              "      <td>False</td>\n",
              "      <td>0.005114</td>\n",
              "      <td>False</td>\n",
              "      <td>0.013275</td>\n",
              "      <td>19.700001</td>\n",
              "    </tr>\n",
              "    <tr>\n",
              "      <th>2</th>\n",
              "      <td>1970-01-01 00:00:01.590</td>\n",
              "      <td>3</td>\n",
              "      <td>0.004976</td>\n",
              "      <td>50.900000</td>\n",
              "      <td>False</td>\n",
              "      <td>0.007673</td>\n",
              "      <td>False</td>\n",
              "      <td>0.020475</td>\n",
              "      <td>22.600000</td>\n",
              "    </tr>\n",
              "    <tr>\n",
              "      <th>3</th>\n",
              "      <td>1970-01-01 00:00:01.590</td>\n",
              "      <td>2</td>\n",
              "      <td>0.004403</td>\n",
              "      <td>76.800003</td>\n",
              "      <td>True</td>\n",
              "      <td>0.007023</td>\n",
              "      <td>False</td>\n",
              "      <td>0.018628</td>\n",
              "      <td>27.000000</td>\n",
              "    </tr>\n",
              "    <tr>\n",
              "      <th>4</th>\n",
              "      <td>1970-01-01 00:00:01.590</td>\n",
              "      <td>3</td>\n",
              "      <td>0.004967</td>\n",
              "      <td>50.900000</td>\n",
              "      <td>False</td>\n",
              "      <td>0.007664</td>\n",
              "      <td>False</td>\n",
              "      <td>0.020448</td>\n",
              "      <td>22.600000</td>\n",
              "    </tr>\n",
              "  </tbody>\n",
              "</table>\n",
              "</div>"
            ],
            "text/plain": [
              "                       ts  device        co  ...  motion     smoke       temp\n",
              "0 1970-01-01 00:00:01.590       3  0.004956  ...   False  0.020411  22.700000\n",
              "1 1970-01-01 00:00:01.590       1  0.002840  ...   False  0.013275  19.700001\n",
              "2 1970-01-01 00:00:01.590       3  0.004976  ...   False  0.020475  22.600000\n",
              "3 1970-01-01 00:00:01.590       2  0.004403  ...   False  0.018628  27.000000\n",
              "4 1970-01-01 00:00:01.590       3  0.004967  ...   False  0.020448  22.600000\n",
              "\n",
              "[5 rows x 9 columns]"
            ]
          },
          "metadata": {
            "tags": []
          },
          "execution_count": 5
        }
      ]
    },
    {
      "cell_type": "code",
      "metadata": {
        "id": "HpyPPcafMmKc",
        "colab_type": "code",
        "colab": {
          "base_uri": "https://localhost:8080/",
          "height": 204
        },
        "outputId": "246d27bb-92d2-4a15-e56d-56a3de7c70be"
      },
      "source": [
        "data.drop(columns=['motion'], inplace=True) \n",
        "data.head()"
      ],
      "execution_count": 6,
      "outputs": [
        {
          "output_type": "execute_result",
          "data": {
            "text/html": [
              "<div>\n",
              "<style scoped>\n",
              "    .dataframe tbody tr th:only-of-type {\n",
              "        vertical-align: middle;\n",
              "    }\n",
              "\n",
              "    .dataframe tbody tr th {\n",
              "        vertical-align: top;\n",
              "    }\n",
              "\n",
              "    .dataframe thead th {\n",
              "        text-align: right;\n",
              "    }\n",
              "</style>\n",
              "<table border=\"1\" class=\"dataframe\">\n",
              "  <thead>\n",
              "    <tr style=\"text-align: right;\">\n",
              "      <th></th>\n",
              "      <th>ts</th>\n",
              "      <th>device</th>\n",
              "      <th>co</th>\n",
              "      <th>humidity</th>\n",
              "      <th>light</th>\n",
              "      <th>lpg</th>\n",
              "      <th>smoke</th>\n",
              "      <th>temp</th>\n",
              "    </tr>\n",
              "  </thead>\n",
              "  <tbody>\n",
              "    <tr>\n",
              "      <th>0</th>\n",
              "      <td>1970-01-01 00:00:01.590</td>\n",
              "      <td>3</td>\n",
              "      <td>0.004956</td>\n",
              "      <td>51.000000</td>\n",
              "      <td>False</td>\n",
              "      <td>0.007651</td>\n",
              "      <td>0.020411</td>\n",
              "      <td>22.700000</td>\n",
              "    </tr>\n",
              "    <tr>\n",
              "      <th>1</th>\n",
              "      <td>1970-01-01 00:00:01.590</td>\n",
              "      <td>1</td>\n",
              "      <td>0.002840</td>\n",
              "      <td>76.000000</td>\n",
              "      <td>False</td>\n",
              "      <td>0.005114</td>\n",
              "      <td>0.013275</td>\n",
              "      <td>19.700001</td>\n",
              "    </tr>\n",
              "    <tr>\n",
              "      <th>2</th>\n",
              "      <td>1970-01-01 00:00:01.590</td>\n",
              "      <td>3</td>\n",
              "      <td>0.004976</td>\n",
              "      <td>50.900000</td>\n",
              "      <td>False</td>\n",
              "      <td>0.007673</td>\n",
              "      <td>0.020475</td>\n",
              "      <td>22.600000</td>\n",
              "    </tr>\n",
              "    <tr>\n",
              "      <th>3</th>\n",
              "      <td>1970-01-01 00:00:01.590</td>\n",
              "      <td>2</td>\n",
              "      <td>0.004403</td>\n",
              "      <td>76.800003</td>\n",
              "      <td>True</td>\n",
              "      <td>0.007023</td>\n",
              "      <td>0.018628</td>\n",
              "      <td>27.000000</td>\n",
              "    </tr>\n",
              "    <tr>\n",
              "      <th>4</th>\n",
              "      <td>1970-01-01 00:00:01.590</td>\n",
              "      <td>3</td>\n",
              "      <td>0.004967</td>\n",
              "      <td>50.900000</td>\n",
              "      <td>False</td>\n",
              "      <td>0.007664</td>\n",
              "      <td>0.020448</td>\n",
              "      <td>22.600000</td>\n",
              "    </tr>\n",
              "  </tbody>\n",
              "</table>\n",
              "</div>"
            ],
            "text/plain": [
              "                       ts  device        co  ...       lpg     smoke       temp\n",
              "0 1970-01-01 00:00:01.590       3  0.004956  ...  0.007651  0.020411  22.700000\n",
              "1 1970-01-01 00:00:01.590       1  0.002840  ...  0.005114  0.013275  19.700001\n",
              "2 1970-01-01 00:00:01.590       3  0.004976  ...  0.007673  0.020475  22.600000\n",
              "3 1970-01-01 00:00:01.590       2  0.004403  ...  0.007023  0.018628  27.000000\n",
              "4 1970-01-01 00:00:01.590       3  0.004967  ...  0.007664  0.020448  22.600000\n",
              "\n",
              "[5 rows x 8 columns]"
            ]
          },
          "metadata": {
            "tags": []
          },
          "execution_count": 6
        }
      ]
    },
    {
      "cell_type": "code",
      "metadata": {
        "id": "6nVqlpTmM5I9",
        "colab_type": "code",
        "colab": {}
      },
      "source": [
        "col_conversion = LabelEncoder()"
      ],
      "execution_count": 7,
      "outputs": []
    },
    {
      "cell_type": "code",
      "metadata": {
        "id": "cSCzHH-jOhRv",
        "colab_type": "code",
        "colab": {
          "base_uri": "https://localhost:8080/",
          "height": 221
        },
        "outputId": "c64ac0a6-b476-4a03-b0e9-ac560156719c"
      },
      "source": [
        "data['light'] = col_conversion.fit_transform(data['light'])\n",
        "category = col_conversion.classes_\n",
        "print(\"Category of Columns : \",category)\n",
        "data.head()"
      ],
      "execution_count": 8,
      "outputs": [
        {
          "output_type": "stream",
          "text": [
            "Category of Columns :  [False  True]\n"
          ],
          "name": "stdout"
        },
        {
          "output_type": "execute_result",
          "data": {
            "text/html": [
              "<div>\n",
              "<style scoped>\n",
              "    .dataframe tbody tr th:only-of-type {\n",
              "        vertical-align: middle;\n",
              "    }\n",
              "\n",
              "    .dataframe tbody tr th {\n",
              "        vertical-align: top;\n",
              "    }\n",
              "\n",
              "    .dataframe thead th {\n",
              "        text-align: right;\n",
              "    }\n",
              "</style>\n",
              "<table border=\"1\" class=\"dataframe\">\n",
              "  <thead>\n",
              "    <tr style=\"text-align: right;\">\n",
              "      <th></th>\n",
              "      <th>ts</th>\n",
              "      <th>device</th>\n",
              "      <th>co</th>\n",
              "      <th>humidity</th>\n",
              "      <th>light</th>\n",
              "      <th>lpg</th>\n",
              "      <th>smoke</th>\n",
              "      <th>temp</th>\n",
              "    </tr>\n",
              "  </thead>\n",
              "  <tbody>\n",
              "    <tr>\n",
              "      <th>0</th>\n",
              "      <td>1970-01-01 00:00:01.590</td>\n",
              "      <td>3</td>\n",
              "      <td>0.004956</td>\n",
              "      <td>51.000000</td>\n",
              "      <td>0</td>\n",
              "      <td>0.007651</td>\n",
              "      <td>0.020411</td>\n",
              "      <td>22.700000</td>\n",
              "    </tr>\n",
              "    <tr>\n",
              "      <th>1</th>\n",
              "      <td>1970-01-01 00:00:01.590</td>\n",
              "      <td>1</td>\n",
              "      <td>0.002840</td>\n",
              "      <td>76.000000</td>\n",
              "      <td>0</td>\n",
              "      <td>0.005114</td>\n",
              "      <td>0.013275</td>\n",
              "      <td>19.700001</td>\n",
              "    </tr>\n",
              "    <tr>\n",
              "      <th>2</th>\n",
              "      <td>1970-01-01 00:00:01.590</td>\n",
              "      <td>3</td>\n",
              "      <td>0.004976</td>\n",
              "      <td>50.900000</td>\n",
              "      <td>0</td>\n",
              "      <td>0.007673</td>\n",
              "      <td>0.020475</td>\n",
              "      <td>22.600000</td>\n",
              "    </tr>\n",
              "    <tr>\n",
              "      <th>3</th>\n",
              "      <td>1970-01-01 00:00:01.590</td>\n",
              "      <td>2</td>\n",
              "      <td>0.004403</td>\n",
              "      <td>76.800003</td>\n",
              "      <td>1</td>\n",
              "      <td>0.007023</td>\n",
              "      <td>0.018628</td>\n",
              "      <td>27.000000</td>\n",
              "    </tr>\n",
              "    <tr>\n",
              "      <th>4</th>\n",
              "      <td>1970-01-01 00:00:01.590</td>\n",
              "      <td>3</td>\n",
              "      <td>0.004967</td>\n",
              "      <td>50.900000</td>\n",
              "      <td>0</td>\n",
              "      <td>0.007664</td>\n",
              "      <td>0.020448</td>\n",
              "      <td>22.600000</td>\n",
              "    </tr>\n",
              "  </tbody>\n",
              "</table>\n",
              "</div>"
            ],
            "text/plain": [
              "                       ts  device        co  ...       lpg     smoke       temp\n",
              "0 1970-01-01 00:00:01.590       3  0.004956  ...  0.007651  0.020411  22.700000\n",
              "1 1970-01-01 00:00:01.590       1  0.002840  ...  0.005114  0.013275  19.700001\n",
              "2 1970-01-01 00:00:01.590       3  0.004976  ...  0.007673  0.020475  22.600000\n",
              "3 1970-01-01 00:00:01.590       2  0.004403  ...  0.007023  0.018628  27.000000\n",
              "4 1970-01-01 00:00:01.590       3  0.004967  ...  0.007664  0.020448  22.600000\n",
              "\n",
              "[5 rows x 8 columns]"
            ]
          },
          "metadata": {
            "tags": []
          },
          "execution_count": 8
        }
      ]
    },
    {
      "cell_type": "code",
      "metadata": {
        "id": "hk2ZxkKhO5HX",
        "colab_type": "code",
        "colab": {
          "base_uri": "https://localhost:8080/",
          "height": 272
        },
        "outputId": "f5dcb20e-fdc1-4fb0-83b3-19aef077df33"
      },
      "source": [
        "data.info()"
      ],
      "execution_count": 9,
      "outputs": [
        {
          "output_type": "stream",
          "text": [
            "<class 'pandas.core.frame.DataFrame'>\n",
            "RangeIndex: 405184 entries, 0 to 405183\n",
            "Data columns (total 8 columns):\n",
            " #   Column    Non-Null Count   Dtype         \n",
            "---  ------    --------------   -----         \n",
            " 0   ts        405184 non-null  datetime64[ns]\n",
            " 1   device    405184 non-null  int64         \n",
            " 2   co        405184 non-null  float64       \n",
            " 3   humidity  405184 non-null  float64       \n",
            " 4   light     405184 non-null  int64         \n",
            " 5   lpg       405184 non-null  float64       \n",
            " 6   smoke     405184 non-null  float64       \n",
            " 7   temp      405184 non-null  float64       \n",
            "dtypes: datetime64[ns](1), float64(5), int64(2)\n",
            "memory usage: 24.7 MB\n"
          ],
          "name": "stdout"
        }
      ]
    },
    {
      "cell_type": "markdown",
      "metadata": {
        "id": "0Hi9E5bwyynp",
        "colab_type": "text"
      },
      "source": [
        "# 5). Data Visualization of Data with respect to CO , Temperature and Smoke"
      ]
    },
    {
      "cell_type": "code",
      "metadata": {
        "id": "hzEqE2SaQSck",
        "colab_type": "code",
        "colab": {
          "base_uri": "https://localhost:8080/",
          "height": 248
        },
        "outputId": "79ad7995-73b0-4395-9a24-0d2c027d9f84"
      },
      "source": [
        "fig = plt.figure()\n",
        "ax = plt.axes(projection='3d')\n",
        "surface = ax.plot_trisurf(data['temp'],data['smoke'],data['co'],cmap = plt.cm.twilight_shifted)\n",
        "plt.show()"
      ],
      "execution_count": 10,
      "outputs": [
        {
          "output_type": "display_data",
          "data": {
            "image/png": "[encoded data removed]",
            "text/plain": [
              "<Figure size 432x288 with 1 Axes>"
            ]
          },
          "metadata": {
            "tags": [],
            "needs_background": "light"
          }
        }
      ]
    },
    {
      "cell_type": "markdown",
      "metadata": {
        "id": "m-QDxCWrzEss",
        "colab_type": "text"
      },
      "source": [
        "# 6). Seprating the data into input and output format."
      ]
    },
    {
      "cell_type": "code",
      "metadata": {
        "id": "SzHdum95P6k7",
        "colab_type": "code",
        "colab": {}
      },
      "source": [
        "X = data.drop(columns=['ts','light'])\n",
        "y = data[['light']].values\n"
      ],
      "execution_count": 11,
      "outputs": []
    },
    {
      "cell_type": "markdown",
      "metadata": {
        "id": "3aFM4-7zzUdA",
        "colab_type": "text"
      },
      "source": [
        "# 7). Spliting the data into Training and Testing for train and test the Model"
      ]
    },
    {
      "cell_type": "code",
      "metadata": {
        "id": "hjQ50pzcb1DQ",
        "colab_type": "code",
        "colab": {}
      },
      "source": [
        "X_train,X_test,y_train,y_test = train_test_split(X,y,test_size = 0.2,random_state = 12)"
      ],
      "execution_count": 12,
      "outputs": []
    },
    {
      "cell_type": "markdown",
      "metadata": {
        "id": "jG1Pzj3qzoGZ",
        "colab_type": "text"
      },
      "source": [
        "# 8). Importing Advance Computational Library Keras for Model defining."
      ]
    },
    {
      "cell_type": "code",
      "metadata": {
        "id": "x_rFS7szTyWA",
        "colab_type": "code",
        "colab": {}
      },
      "source": [
        "from keras.models import Sequential\n",
        "from keras.layers import *"
      ],
      "execution_count": 13,
      "outputs": []
    },
    {
      "cell_type": "markdown",
      "metadata": {
        "id": "0ZeSF-axz8ry",
        "colab_type": "text"
      },
      "source": [
        "# Model Defining"
      ]
    },
    {
      "cell_type": "code",
      "metadata": {
        "id": "bpaKz-vcWh0h",
        "colab_type": "code",
        "colab": {
          "base_uri": "https://localhost:8080/",
          "height": 323
        },
        "outputId": "a0eb0c71-a53b-4b33-e29f-e23dc6e98640"
      },
      "source": [
        "model = Sequential()\n",
        "model.add(Dense(50,input_dim=6,activation=\"relu\"))\n",
        "model.add(Dense(100,activation=\"relu\"))\n",
        "model.add(Dense(100,activation=\"relu\"))\n",
        "model.add(Dense(50,activation=\"relu\"))\n",
        "model.add(Dense(1,activation=\"linear\"))\n",
        "model.summary()"
      ],
      "execution_count": 14,
      "outputs": [
        {
          "output_type": "stream",
          "text": [
            "Model: \"sequential\"\n",
            "_________________________________________________________________\n",
            "Layer (type)                 Output Shape              Param #   \n",
            "=================================================================\n",
            "dense (Dense)                (None, 50)                350       \n",
            "_________________________________________________________________\n",
            "dense_1 (Dense)              (None, 100)               5100      \n",
            "_________________________________________________________________\n",
            "dense_2 (Dense)              (None, 100)               10100     \n",
            "_________________________________________________________________\n",
            "dense_3 (Dense)              (None, 50)                5050      \n",
            "_________________________________________________________________\n",
            "dense_4 (Dense)              (None, 1)                 51        \n",
            "=================================================================\n",
            "Total params: 20,651\n",
            "Trainable params: 20,651\n",
            "Non-trainable params: 0\n",
            "_________________________________________________________________\n"
          ],
          "name": "stdout"
        }
      ]
    },
    {
      "cell_type": "code",
      "metadata": {
        "id": "glzmIPODW8J2",
        "colab_type": "code",
        "colab": {}
      },
      "source": [
        "model.compile(loss=\"mean_squared_error\",optimizer=\"adam\", metrics=['accuracy'])\n"
      ],
      "execution_count": 15,
      "outputs": []
    },
    {
      "cell_type": "markdown",
      "metadata": {
        "id": "fDKNKvmi0BDq",
        "colab_type": "text"
      },
      "source": [
        "# 9). Fitting the Training Data into our Model."
      ]
    },
    {
      "cell_type": "code",
      "metadata": {
        "id": "Tflj3ZI4XEKU",
        "colab_type": "code",
        "colab": {
          "base_uri": "https://localhost:8080/",
          "height": 187
        },
        "outputId": "7de073b7-ec20-43c2-afec-6cd52efa4e43"
      },
      "source": [
        "history = model.fit(\n",
        "    X_train,\n",
        "    y_train,\n",
        "    epochs=5,\n",
        "    shuffle=True,\n",
        "    verbose=2,\n",
        "    batch_size = 5\n",
        "\n",
        ")"
      ],
      "execution_count": 16,
      "outputs": [
        {
          "output_type": "stream",
          "text": [
            "Epoch 1/5\n",
            "64830/64830 - 126s - loss: 0.0218 - accuracy: 0.9782\n",
            "Epoch 2/5\n",
            "64830/64830 - 122s - loss: 0.0164 - accuracy: 0.9833\n",
            "Epoch 3/5\n",
            "64830/64830 - 122s - loss: 0.0162 - accuracy: 0.9835\n",
            "Epoch 4/5\n",
            "64830/64830 - 121s - loss: 0.0163 - accuracy: 0.9833\n",
            "Epoch 5/5\n",
            "64830/64830 - 122s - loss: 0.0162 - accuracy: 0.9834\n"
          ],
          "name": "stdout"
        }
      ]
    },
    {
      "cell_type": "markdown",
      "metadata": {
        "id": "veBI5PKL0QxP",
        "colab_type": "text"
      },
      "source": [
        "# 10).  Visualize the Loss of the Model"
      ]
    },
    {
      "cell_type": "code",
      "metadata": {
        "id": "XZBm_C_jYeUm",
        "colab_type": "code",
        "colab": {
          "base_uri": "https://localhost:8080/",
          "height": 295
        },
        "outputId": "25010113-5cef-4de5-aebb-09501371d3e9"
      },
      "source": [
        "import matplotlib.pyplot as plt\n",
        "plt.plot(history.history['loss'])\n",
        "plt.title('Model Loss')\n",
        "plt.ylabel('accuracy')\n",
        "plt.xlabel('epoch')\n",
        "plt.legend(['train'], loc='upper left')\n",
        "plt.show()"
      ],
      "execution_count": 17,
      "outputs": [
        {
          "output_type": "display_data",
          "data": {
            "image/png": "[encoded data removed]",
            "text/plain": [
              "<Figure size 432x288 with 1 Axes>"
            ]
          },
          "metadata": {
            "tags": [],
            "needs_background": "light"
          }
        }
      ]
    },
    {
      "cell_type": "markdown",
      "metadata": {
        "id": "BRGY4Ue-0jDT",
        "colab_type": "text"
      },
      "source": [
        "# 11). Evaluate the Model on the Testing Data"
      ]
    },
    {
      "cell_type": "code",
      "metadata": {
        "id": "D1acnLgIYwFU",
        "colab_type": "code",
        "colab": {
          "base_uri": "https://localhost:8080/",
          "height": 34
        },
        "outputId": "64e9da69-ebb9-4566-c0d9-88e2d8346a12"
      },
      "source": [
        "test_error_rate=model.evaluate(X_test,y_test,verbose=0)\n",
        "print(\"The Mean Squared Error (MSE) for the test dataset is : {}\".format(test_error_rate[0]))"
      ],
      "execution_count": 18,
      "outputs": [
        {
          "output_type": "stream",
          "text": [
            "The Mean Squared Error (MSE) for the test dataset is : 0.016096532344818115\n"
          ],
          "name": "stdout"
        }
      ]
    },
    {
      "cell_type": "markdown",
      "metadata": {
        "id": "SvX8HM4M0u8u",
        "colab_type": "text"
      },
      "source": [
        "# 12). Applying new data on our Machine Learning Model ."
      ]
    },
    {
      "cell_type": "code",
      "metadata": {
        "id": "Vici2t5phtf7",
        "colab_type": "code",
        "colab": {
          "base_uri": "https://localhost:8080/",
          "height": 204
        },
        "outputId": "35620220-89b4-4b00-9f5f-36bf8732356b"
      },
      "source": [
        "new_data = pd.read_excel('/content/drive/My Drive/new data.xlsx')\n",
        "new_data.head()"
      ],
      "execution_count": 19,
      "outputs": [
        {
          "output_type": "execute_result",
          "data": {
            "text/html": [
              "<div>\n",
              "<style scoped>\n",
              "    .dataframe tbody tr th:only-of-type {\n",
              "        vertical-align: middle;\n",
              "    }\n",
              "\n",
              "    .dataframe tbody tr th {\n",
              "        vertical-align: top;\n",
              "    }\n",
              "\n",
              "    .dataframe thead th {\n",
              "        text-align: right;\n",
              "    }\n",
              "</style>\n",
              "<table border=\"1\" class=\"dataframe\">\n",
              "  <thead>\n",
              "    <tr style=\"text-align: right;\">\n",
              "      <th></th>\n",
              "      <th>device</th>\n",
              "      <th>co</th>\n",
              "      <th>humidity</th>\n",
              "      <th>lpg</th>\n",
              "      <th>smoke</th>\n",
              "      <th>temp</th>\n",
              "    </tr>\n",
              "  </thead>\n",
              "  <tbody>\n",
              "    <tr>\n",
              "      <th>0</th>\n",
              "      <td>2</td>\n",
              "      <td>0.004383</td>\n",
              "      <td>78</td>\n",
              "      <td>0.007000</td>\n",
              "      <td>0.018563</td>\n",
              "      <td>27.0</td>\n",
              "    </tr>\n",
              "    <tr>\n",
              "      <th>1</th>\n",
              "      <td>1</td>\n",
              "      <td>0.004551</td>\n",
              "      <td>72</td>\n",
              "      <td>0.006585</td>\n",
              "      <td>0.012549</td>\n",
              "      <td>28.1</td>\n",
              "    </tr>\n",
              "    <tr>\n",
              "      <th>2</th>\n",
              "      <td>3</td>\n",
              "      <td>0.002458</td>\n",
              "      <td>77</td>\n",
              "      <td>0.008954</td>\n",
              "      <td>0.036549</td>\n",
              "      <td>26.9</td>\n",
              "    </tr>\n",
              "    <tr>\n",
              "      <th>3</th>\n",
              "      <td>1</td>\n",
              "      <td>0.003555</td>\n",
              "      <td>51</td>\n",
              "      <td>0.245880</td>\n",
              "      <td>0.214558</td>\n",
              "      <td>29.9</td>\n",
              "    </tr>\n",
              "    <tr>\n",
              "      <th>4</th>\n",
              "      <td>3</td>\n",
              "      <td>0.354880</td>\n",
              "      <td>65</td>\n",
              "      <td>0.144896</td>\n",
              "      <td>0.524698</td>\n",
              "      <td>26.5</td>\n",
              "    </tr>\n",
              "  </tbody>\n",
              "</table>\n",
              "</div>"
            ],
            "text/plain": [
              "   device        co  humidity       lpg     smoke  temp\n",
              "0       2  0.004383        78  0.007000  0.018563  27.0\n",
              "1       1  0.004551        72  0.006585  0.012549  28.1\n",
              "2       3  0.002458        77  0.008954  0.036549  26.9\n",
              "3       1  0.003555        51  0.245880  0.214558  29.9\n",
              "4       3  0.354880        65  0.144896  0.524698  26.5"
            ]
          },
          "metadata": {
            "tags": []
          },
          "execution_count": 19
        }
      ]
    },
    {
      "cell_type": "markdown",
      "metadata": {
        "id": "KVHKtyR40-qz",
        "colab_type": "text"
      },
      "source": [
        "# 13). Making Prediction on the new data"
      ]
    },
    {
      "cell_type": "code",
      "metadata": {
        "id": "pYZiOplCiHaR",
        "colab_type": "code",
        "colab": {
          "base_uri": "https://localhost:8080/",
          "height": 119
        },
        "outputId": "80218ed4-41ce-4a39-c74c-bba6ecf32b08"
      },
      "source": [
        "Prediction = model.predict(new_data)\n",
        "Prediction"
      ],
      "execution_count": 20,
      "outputs": [
        {
          "output_type": "execute_result",
          "data": {
            "text/plain": [
              "array([[1.0021636 ],\n",
              "       [0.02549177],\n",
              "       [1.1542645 ],\n",
              "       [0.02549177],\n",
              "       [0.94026357],\n",
              "       [0.9500467 ]], dtype=float32)"
            ]
          },
          "metadata": {
            "tags": []
          },
          "execution_count": 20
        }
      ]
    },
    {
      "cell_type": "markdown",
      "metadata": {
        "id": "rqRnPGs01LDc",
        "colab_type": "text"
      },
      "source": [
        "# 14). Final Predition of the Model that Wheather the Person is Present or not. "
      ]
    },
    {
      "cell_type": "code",
      "metadata": {
        "id": "ukQzdkT2iU3d",
        "colab_type": "code",
        "colab": {
          "base_uri": "https://localhost:8080/",
          "height": 119
        },
        "outputId": "1db4ddc7-4314-4db8-d94c-3c8e6eb384cf"
      },
      "source": [
        "for i in Prediction:\n",
        "  if i >= 0.5:\n",
        "    print(\"Person is Present \")\n",
        "  else:\n",
        "    print(\"Person is not Present\")"
      ],
      "execution_count": 21,
      "outputs": [
        {
          "output_type": "stream",
          "text": [
            "Person is Present \n",
            "Person is not Present\n",
            "Person is Present \n",
            "Person is not Present\n",
            "Person is Present \n",
            "Person is Present \n"
          ],
          "name": "stdout"
        }
      ]
    },
    {
      "cell_type": "markdown",
      "metadata": {
        "id": "w3RcmrmV1dr3",
        "colab_type": "text"
      },
      "source": [
        "![alt text](https://encrypted-tbn0.gstatic.com/images?q=tbn%3AANd9GcSVEWfCDSAX1UWRPl-xwzxP3sqSG5saq8NrrQ&usqp=CAU)\n",
        "# Now you Can Predict \n",
        "\n",
        "# Apply on your new dataset and have fun \n",
        "\n",
        "![gr](https://user-images.githubusercontent.com/52448964/89741331-ff8f4c00-daad-11ea-9eb1-8e2a5c9c4951.jpg)"
      ]
    },
    {
      "cell_type": "markdown",
      "metadata": {
        "id": "wZ1BLneS2Rqy",
        "colab_type": "text"
      },
      "source": [
        "# Thank You \n",
        "# Model Created by: Rudresh Joshi { Tuscon }\n"
      ]
    },
    {
      "cell_type": "code",
      "metadata": {
        "id": "crCnWMtl2J51",
        "colab_type": "code",
        "colab": {}
      },
      "source": [
        ""
      ],
      "execution_count": 21,
      "outputs": []
    }
  ]
}